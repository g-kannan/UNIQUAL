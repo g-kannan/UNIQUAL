{
 "cells": [
  {
   "cell_type": "code",
   "execution_count": 2,
   "metadata": {},
   "outputs": [],
   "source": [
    "import os\n",
    "from dotenv import load_dotenv\n",
    "load_dotenv() \n",
    "import duckdb"
   ]
  },
  {
   "cell_type": "code",
   "execution_count": 3,
   "metadata": {},
   "outputs": [],
   "source": [
    "KEY_ID=os.getenv(\"AWS_ACCESS_KEY_ID\")\n",
    "SECRET=os.getenv(\"AWS_SECRET_ACCESS_KEY\")\n",
    "REGION=os.getenv(\"AWS_REGION\")"
   ]
  },
  {
   "cell_type": "code",
   "execution_count": 4,
   "metadata": {},
   "outputs": [],
   "source": [
    "conn = duckdb.connect(\":memory:\")"
   ]
  },
  {
   "cell_type": "code",
   "execution_count": 5,
   "metadata": {},
   "outputs": [
    {
     "data": {
      "text/plain": [
       "<duckdb.duckdb.DuckDBPyConnection at 0x17b37a652f0>"
      ]
     },
     "execution_count": 5,
     "metadata": {},
     "output_type": "execute_result"
    }
   ],
   "source": [
    "conn.execute(\"INSTALL httpfs; LOAD httpfs;\")"
   ]
  },
  {
   "cell_type": "code",
   "execution_count": 6,
   "metadata": {},
   "outputs": [
    {
     "data": {
      "text/plain": [
       "<duckdb.duckdb.DuckDBPyConnection at 0x17b37a652f0>"
      ]
     },
     "execution_count": 6,
     "metadata": {},
     "output_type": "execute_result"
    }
   ],
   "source": [
    "conn.execute(f\"\"\"\n",
    "CREATE SECRET (\n",
    "    TYPE S3,\n",
    "    KEY_ID '{KEY_ID}',\n",
    "    SECRET '{SECRET}',\n",
    "    REGION '{REGION}'\n",
    ");\n",
    "\"\"\")"
   ]
  },
  {
   "cell_type": "code",
   "execution_count": 7,
   "metadata": {},
   "outputs": [],
   "source": [
    "df = conn.sql(\"select * from read_csv('s3://tgt-southdms/input/hugging_face_data/gitrenum/*.csv')\").to_df()"
   ]
  },
  {
   "cell_type": "code",
   "execution_count": 12,
   "metadata": {},
   "outputs": [
    {
     "name": "stdout",
     "output_type": "stream",
     "text": [
      "['repo_name', 'unique_contributors', 'commit_comment_event_count', 'create_event_count', 'delete_event_count', 'fork_event_count', 'gollum_event_count', 'issue_comment_event_count', 'issues_event_count', 'member_event_count', 'public_event_count', 'pull_request_event_count', 'pull_request_review_event_count', 'pull_request_review_comment_event_count', 'pull_request_review_thread_event_count', 'push_event_count', 'release_event_count', 'sponsorship_event_count', 'watch_event_count']\n"
     ]
    }
   ],
   "source": [
    "cols = df.columns.to_list()\n",
    "print(cols)"
   ]
  }
 ],
 "metadata": {
  "kernelspec": {
   "display_name": "venv",
   "language": "python",
   "name": "python3"
  },
  "language_info": {
   "codemirror_mode": {
    "name": "ipython",
    "version": 3
   },
   "file_extension": ".py",
   "mimetype": "text/x-python",
   "name": "python",
   "nbconvert_exporter": "python",
   "pygments_lexer": "ipython3",
   "version": "3.13.1"
  }
 },
 "nbformat": 4,
 "nbformat_minor": 2
}
